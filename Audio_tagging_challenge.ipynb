{
 "cells": [
  {
   "cell_type": "code",
   "execution_count": 3,
   "metadata": {
    "colab": {
     "autoexec": {
      "startup": false,
      "wait_interval": 0
     },
     "base_uri": "https://localhost:8080/",
     "height": 37
    },
    "colab_type": "code",
    "executionInfo": {
     "elapsed": 698,
     "status": "ok",
     "timestamp": 1530494324927,
     "user": {
      "displayName": "Mohamed Ramzy",
      "photoUrl": "https://lh3.googleusercontent.com/a/default-user=s128",
      "userId": "110230820219558545195"
     },
     "user_tz": -120
    },
    "id": "_P1oWq9Gs1zd",
    "outputId": "410ceda1-e07d-44da-f570-ad01cbe122ed"
   },
   "outputs": [],
   "source": [
    "import pandas as pd\n",
    "import matplotlib.pyplot as plt\n",
    "import torch\n",
    "import torch.nn as nn\n",
    "from torch.autograd import Variable\n",
    "from torch import Tensor\n",
    "from torch.utils.data import Dataset , DataLoader\n",
    "\n",
    "from sklearn.model_selection import train_test_split\n",
    "import numpy as np\n",
    "from scipy import signal\n",
    "from scipy.io import wavfile\n",
    "from IPython.display import Audio\n",
    "import os"
   ]
  },
  {
   "cell_type": "code",
   "execution_count": 11,
   "metadata": {
    "colab": {
     "autoexec": {
      "startup": false,
      "wait_interval": 0
     },
     "base_uri": "https://localhost:8080/",
     "height": 37
    },
    "colab_type": "code",
    "executionInfo": {
     "elapsed": 780,
     "status": "ok",
     "timestamp": 1530494325810,
     "user": {
      "displayName": "Mohamed Ramzy",
      "photoUrl": "https://lh3.googleusercontent.com/a/default-user=s128",
      "userId": "110230820219558545195"
     },
     "user_tz": -120
    },
    "id": "rgEPkjT7s4TX",
    "outputId": "9040043a-2bc7-4646-db14-bcc3ac70ed99"
   },
   "outputs": [],
   "source": [
    "train = pd.read_csv(\".kaggle/competitions/freesound-audio-tagging/train.csv\")\n",
    "submission = pd.read_csv(\".kaggle/competitions/freesound-audio-tagging/sample_submission.csv\")"
   ]
  },
  {
   "cell_type": "code",
   "execution_count": 12,
   "metadata": {
    "colab": {
     "autoexec": {
      "startup": false,
      "wait_interval": 0
     },
     "base_uri": "https://localhost:8080/",
     "height": 37
    },
    "colab_type": "code",
    "executionInfo": {
     "elapsed": 616,
     "status": "ok",
     "timestamp": 1530494326497,
     "user": {
      "displayName": "Mohamed Ramzy",
      "photoUrl": "https://lh3.googleusercontent.com/a/default-user=s128",
      "userId": "110230820219558545195"
     },
     "user_tz": -120
    },
    "id": "ddIJuqiLwY7I",
    "outputId": "145de92e-ba14-469c-8229-85f5de3775df"
   },
   "outputs": [],
   "source": [
    "train_files = list(train['fname'])\n",
    "test_files = list(submission['fname'])\n",
    "manually_verified = list(train['manually_verified'])\n",
    "train_labels = list(train['label'])"
   ]
  },
  {
   "cell_type": "code",
   "execution_count": 13,
   "metadata": {
    "colab": {
     "autoexec": {
      "startup": false,
      "wait_interval": 0
     },
     "base_uri": "https://localhost:8080/",
     "height": 71
    },
    "colab_type": "code",
    "executionInfo": {
     "elapsed": 707,
     "status": "ok",
     "timestamp": 1530494327387,
     "user": {
      "displayName": "Mohamed Ramzy",
      "photoUrl": "https://lh3.googleusercontent.com/a/default-user=s128",
      "userId": "110230820219558545195"
     },
     "user_tz": -120
    },
    "id": "WfD_FqUSwhsF",
    "outputId": "0dc442da-88b2-4a38-d06e-c79d661da570"
   },
   "outputs": [
    {
     "name": "stderr",
     "output_type": "stream",
     "text": [
      "/usr/local/lib/python3.6/dist-packages/sklearn/model_selection/_split.py:2026: FutureWarning: From version 0.21, test_size will always complement train_size unless both are specified.\n",
      "  FutureWarning)\n"
     ]
    }
   ],
   "source": [
    "train_files , val_files , train_labels , val_labels , manually_train , manually_val = train_test_split(train_files , train_labels , manually_verified , train_size = 0.95 , random_state = 1)"
   ]
  },
  {
   "cell_type": "code",
   "execution_count": 15,
   "metadata": {
    "colab": {
     "autoexec": {
      "startup": false,
      "wait_interval": 0
     },
     "base_uri": "https://localhost:8080/",
     "height": 37
    },
    "colab_type": "code",
    "executionInfo": {
     "elapsed": 631,
     "status": "ok",
     "timestamp": 1530494330155,
     "user": {
      "displayName": "Mohamed Ramzy",
      "photoUrl": "https://lh3.googleusercontent.com/a/default-user=s128",
      "userId": "110230820219558545195"
     },
     "user_tz": -120
    },
    "id": "cZ2vG3uAs13x",
    "outputId": "5223efb9-3c03-43ea-8f7a-74b411b42c9d"
   },
   "outputs": [],
   "source": [
    "classes = list(train['label'].unique())"
   ]
  },
  {
   "cell_type": "code",
   "execution_count": 16,
   "metadata": {
    "colab": {
     "autoexec": {
      "startup": false,
      "wait_interval": 0
     },
     "base_uri": "https://localhost:8080/",
     "height": 37
    },
    "colab_type": "code",
    "executionInfo": {
     "elapsed": 631,
     "status": "ok",
     "timestamp": 1530494330834,
     "user": {
      "displayName": "Mohamed Ramzy",
      "photoUrl": "https://lh3.googleusercontent.com/a/default-user=s128",
      "userId": "110230820219558545195"
     },
     "user_tz": -120
    },
    "id": "l9_GlmHZtRhD",
    "outputId": "188f9306-6ede-4156-9e1b-849221097083"
   },
   "outputs": [],
   "source": [
    "num_to_class = dict((x , y) for x , y in enumerate(classes))"
   ]
  },
  {
   "cell_type": "code",
   "execution_count": 17,
   "metadata": {
    "colab": {
     "autoexec": {
      "startup": false,
      "wait_interval": 0
     },
     "base_uri": "https://localhost:8080/",
     "height": 37
    },
    "colab_type": "code",
    "executionInfo": {
     "elapsed": 684,
     "status": "ok",
     "timestamp": 1530494331583,
     "user": {
      "displayName": "Mohamed Ramzy",
      "photoUrl": "https://lh3.googleusercontent.com/a/default-user=s128",
      "userId": "110230820219558545195"
     },
     "user_tz": -120
    },
    "id": "Mg4xGCTCtsKf",
    "outputId": "9a1b2adf-6d9d-4da3-9dfb-18e7d44a6d6f"
   },
   "outputs": [],
   "source": [
    "class_to_num = dict((y , x) for x , y in enumerate(classes))"
   ]
  },
  {
   "cell_type": "code",
   "execution_count": 4,
   "metadata": {
    "colab": {
     "autoexec": {
      "startup": false,
      "wait_interval": 0
     },
     "base_uri": "https://localhost:8080/",
     "height": 37
    },
    "colab_type": "code",
    "executionInfo": {
     "elapsed": 558,
     "status": "ok",
     "timestamp": 1530494332944,
     "user": {
      "displayName": "Mohamed Ramzy",
      "photoUrl": "https://lh3.googleusercontent.com/a/default-user=s128",
      "userId": "110230820219558545195"
     },
     "user_tz": -120
    },
    "id": "lxNpNvyqt56B",
    "outputId": "b5d64b37-7a91-4ba5-8fed-6638086a4ea0"
   },
   "outputs": [],
   "source": [
    "class AudioDataset(Dataset):\n",
    "  \n",
    "  def __init__(self , file_names , num_classes, max_len , dir_name , labels = None , manually_verified = None , has_labels = True):\n",
    "    \n",
    "    super(AudioDataset , self).__init__()\n",
    "    self.file_names = file_names\n",
    "    self.labels = labels\n",
    "    self.manually_verified = manually_verified\n",
    "    self.max_len = max_len\n",
    "    self.dir_name = dir_name\n",
    "    self.num_classes = num_classes\n",
    "    self.has_labels = has_labels\n",
    "  \n",
    "  def __len__(self):\n",
    "    \n",
    "    return len(self.file_names)\n",
    "  \n",
    "  def __getitem__(self , idx):\n",
    "    \n",
    "    file_name = self.file_names[idx]\n",
    "    sample_rate , samples = wavfile.read((\"%s/%s\" % (self.dir_name , file_name)))\n",
    "    frequencies, times, spectogram = signal.spectrogram(samples, sample_rate , scaling = 'spectrum')\n",
    "    if(len(spectogram.shape) == 1):\n",
    "      spectogram = np.zeros((210 , 129))\n",
    "    else:\n",
    "      audio_len = min(spectogram.shape[1] , self.max_len)\n",
    "      spectogram = spectogram.T\n",
    "      time_steps , num_freq = spectogram.shape\n",
    "      spectogram = spectogram[:audio_len , :num_freq]\n",
    "      if audio_len != self.max_len:\n",
    "        to_pad = self.max_len - audio_len\n",
    "        zeros = np.zeros((to_pad , num_freq))\n",
    "        spectogram = np.concatenate((zeros , spectogram))\n",
    "    \n",
    "    if self.has_labels:\n",
    "      label = self.labels[idx]\n",
    "      label = class_to_num[label]\n",
    "      manually = self.manually_verified[idx]\n",
    "      \n",
    "      return spectogram.astype(np.float32) , label , manually\n",
    "    \n",
    "    else:\n",
    "      return spectogram.astype(np.float32)\n",
    "    "
   ]
  },
  {
   "cell_type": "code",
   "execution_count": 19,
   "metadata": {
    "colab": {
     "autoexec": {
      "startup": false,
      "wait_interval": 0
     },
     "base_uri": "https://localhost:8080/",
     "height": 37
    },
    "colab_type": "code",
    "executionInfo": {
     "elapsed": 599,
     "status": "ok",
     "timestamp": 1530494333743,
     "user": {
      "displayName": "Mohamed Ramzy",
      "photoUrl": "https://lh3.googleusercontent.com/a/default-user=s128",
      "userId": "110230820219558545195"
     },
     "user_tz": -120
    },
    "id": "iI2sHPFlcdfT",
    "outputId": "a8b83eb2-48a2-4d5d-977d-b921d5272904"
   },
   "outputs": [],
   "source": [
    "train_dataset = AudioDataset(train_files , len(classes) , 210 , 'audio_train' , labels = train_labels , manually_verified = manually_train)"
   ]
  },
  {
   "cell_type": "code",
   "execution_count": 0,
   "metadata": {
    "colab": {
     "autoexec": {
      "startup": false,
      "wait_interval": 0
     },
     "base_uri": "https://localhost:8080/",
     "height": 37
    },
    "colab_type": "code",
    "id": "rcLsZ1eOCwHM",
    "outputId": "162377db-aa11-4350-ca2b-9eb1f36d43e7"
   },
   "outputs": [],
   "source": [
    "mean = np.zeros((210,129)).astype(np.float32)\n",
    "var = np.zeros((210 , 129)).astype(np.float32)\n",
    "\n",
    "for i in range(len(train_dataset)):\n",
    "  spec , label , man = train_dataset[i]\n",
    "  \n",
    "  mean += spec\n",
    "  \n",
    "mean = mean / len(train_dataset)\n",
    "\n",
    "for i in range(len(train_dataset)):\n",
    "  spec , label , man = train_dataset[i]\n",
    "  \n",
    "  var += (spec - mean) \n",
    "  \n",
    "var = var / len(train_dataset)\n"
   ]
  },
  {
   "cell_type": "code",
   "execution_count": 0,
   "metadata": {
    "colab": {
     "autoexec": {
      "startup": false,
      "wait_interval": 0
     }
    },
    "colab_type": "code",
    "id": "zQUHk3CadjOP"
   },
   "outputs": [],
   "source": [
    "train_loader = DataLoader(dataset = train_dataset , batch_size = 1024 , shuffle = True , pin_memory = True)"
   ]
  },
  {
   "cell_type": "code",
   "execution_count": 0,
   "metadata": {
    "colab": {
     "autoexec": {
      "startup": false,
      "wait_interval": 0
     }
    },
    "colab_type": "code",
    "id": "DgaHQ-VvQZXo"
   },
   "outputs": [],
   "source": [
    "train_iter = iter(train_loader)\n",
    "train_iter.next()"
   ]
  },
  {
   "cell_type": "code",
   "execution_count": 0,
   "metadata": {
    "colab": {
     "autoexec": {
      "startup": false,
      "wait_interval": 0
     }
    },
    "colab_type": "code",
    "id": "mBuI9OlZxZNe"
   },
   "outputs": [],
   "source": [
    "val_dataset = AudioDataset(val_files , len(classes) , 210 , 'audio_train' , labels = val_labels , manually_verified = manually_val)"
   ]
  },
  {
   "cell_type": "code",
   "execution_count": 0,
   "metadata": {
    "colab": {
     "autoexec": {
      "startup": false,
      "wait_interval": 0
     }
    },
    "colab_type": "code",
    "id": "SIWsknvvypQK"
   },
   "outputs": [],
   "source": [
    "val_loader = DataLoader(dataset = val_dataset , batch_size = 1024 , shuffle = True)"
   ]
  },
  {
   "cell_type": "code",
   "execution_count": 0,
   "metadata": {
    "colab": {
     "autoexec": {
      "startup": false,
      "wait_interval": 0
     }
    },
    "colab_type": "code",
    "id": "c7PFkmRDz-Xh"
   },
   "outputs": [],
   "source": [
    "test_dataset = AudioDataset(test_files , len(classes) , 210 , 'audio_test' , has_labels = False)"
   ]
  },
  {
   "cell_type": "code",
   "execution_count": 0,
   "metadata": {
    "colab": {
     "autoexec": {
      "startup": false,
      "wait_interval": 0
     }
    },
    "colab_type": "code",
    "id": "pkj1NVkQ0MC-"
   },
   "outputs": [],
   "source": [
    "test_loader = DataLoader(dataset = test_dataset , batch_size = 1024)"
   ]
  },
  {
   "cell_type": "code",
   "execution_count": 0,
   "metadata": {
    "colab": {
     "autoexec": {
      "startup": false,
      "wait_interval": 0
     }
    },
    "colab_type": "code",
    "id": "oqzyxKDwmHNr"
   },
   "outputs": [],
   "source": [
    "class Model(nn.Module):\n",
    "  \n",
    "  def __init__(self):\n",
    "    super(Model , self).__init__()\n",
    "    self.Conv1d = nn.Conv1d(in_channels = 129 , out_channels = 196 , kernel_size = 11 , stride = 1)\n",
    "    self.bn = nn.BatchNorm1d(num_features = 196)\n",
    "    self.ReLU = nn.ReLU()\n",
    "    self.GRU = nn.GRU(input_size = 129 , hidden_size = 80 , num_layers = 2 , batch_first = True)\n",
    "    self.Linear = nn.Linear(in_features = 80 , out_features = 41)\n",
    "    \n",
    "  def forward(self , x):\n",
    "    x.data.transpose_(1,2) # The input shape for Conv1d should be (N , X , seq_len)\n",
    "    \n",
    "    x = self.Conv1d(x)\n",
    "    x = self.bn(x)\n",
    "    x = self.ReLU(x)\n",
    "    \n",
    "    x.data.transpose_(1,2) #restoring the original shape (N , seq_len , X)\n",
    "    \n",
    "    x , _ = self.GRU(x)\n",
    "    x.data= x.data[: , -1 , :].squeeze(1)\n",
    "    \n",
    "    logits = self.Linear(x)\n",
    "    \n",
    "    return logits\n",
    "    \n",
    "   "
   ]
  },
  {
   "cell_type": "code",
   "execution_count": 0,
   "metadata": {
    "colab": {
     "autoexec": {
      "startup": false,
      "wait_interval": 0
     }
    },
    "colab_type": "code",
    "id": "HdpQXzWeo25R"
   },
   "outputs": [],
   "source": [
    "AudioModel = Model().cuda()"
   ]
  },
  {
   "cell_type": "code",
   "execution_count": 0,
   "metadata": {
    "colab": {
     "autoexec": {
      "startup": false,
      "wait_interval": 0
     }
    },
    "colab_type": "code",
    "id": "SYNg1rt8nDkb"
   },
   "outputs": [],
   "source": [
    "criterion = nn.CrossEntropyLoss()"
   ]
  },
  {
   "cell_type": "code",
   "execution_count": 0,
   "metadata": {
    "colab": {
     "autoexec": {
      "startup": false,
      "wait_interval": 0
     }
    },
    "colab_type": "code",
    "id": "IkxT6VP9D65H"
   },
   "outputs": [],
   "source": [
    "mean = torch.from_numpy(mean)\n",
    "var = torch.from_numpy(var)"
   ]
  },
  {
   "cell_type": "code",
   "execution_count": 0,
   "metadata": {
    "colab": {
     "autoexec": {
      "startup": false,
      "wait_interval": 0
     }
    },
    "colab_type": "code",
    "id": "4LMt2OuaT3oN"
   },
   "outputs": [],
   "source": [
    "train_iter = iter(train_loader)\n",
    "\n",
    "optimizer = torch.optim.Adam(AudioModel.parameters())\n",
    "\n",
    "num_epochs = 10\n",
    "\n",
    "\n",
    "\n",
    "for epoch in range(num_epochs):\n",
    "  \n",
    "  num_corrects = 0\n",
    "\n",
    "  for mini_batch in range(len(train_loader)):\n",
    "    \n",
    "  \n",
    "    X , Y , M = train_iter.next()\n",
    "  \n",
    "    X = X - mean\n",
    "    X = X / var\n",
    "    \n",
    "  \n",
    "    X = Variable(X.cuda() , requires_grad = False)\n",
    "    Y = Variable(Y.cuda() , requires_grad = False).long()\n",
    "    M = M.cuda()\n",
    "  \n",
    "    logits = AudioModel(X)\n",
    "    \n",
    "    predictions = torch.argmax(logits , dim = 1)\n",
    "    \n",
    "    \n",
    "    num_corrects += predictions.eq(Y).sum()\n",
    "    \n",
    "    \n",
    "    loss = criterion(logits , Y)\n",
    "  \n",
    "    optimizer.zero_grad()\n",
    "    loss.backward()\n",
    "    optimizer.step()\n",
    "    \n",
    "    if(mini_batch == len(train_loader)-1):\n",
    "      \n",
    "      val_iter = iter(val_loader)\n",
    "      X , Y , M = val_iter.next()\n",
    "      X = X - mean\n",
    "      X = X / var\n",
    "      X = Variable(X.cuda() , requires_grad = False)\n",
    "      Y = Variable(Y.cuda() , requires_grad = False).long()\n",
    "      M = M.cuda()\n",
    "      \n",
    "      logits = AudioModel(X)\n",
    "      \n",
    "      val_loss = criterion(logits , Y)\n",
    "      \n",
    "      predictions = torch.argmax(logits , dim = 1)\n",
    "\n",
    "      \n",
    "      corrects = predictions.eq(Y).sum()\n",
    "      \n",
    "      \n",
    "      val_acc = (corrects.item()*1.0 / len(val_dataset)) * 100\n",
    "      \n",
    "      train_acc = (num_corrects.item()*1.0 / len(train_dataset)) * 100\n",
    "      \n",
    "      print(\"Epoch[{} / {}] : loss = {} , train_acc = {}% , val_loss= {} , val_acc = {}%\".format(epoch+1 , num_epochs , loss , train_acc , val_loss , val_acc))\n",
    "      \n",
    "      \n",
    "  train_iter = iter(train_loader)\n",
    "    \n",
    "  \n",
    "  \n",
    "  \n",
    "  \n",
    "  \n",
    "  \n",
    "  \n"
   ]
  },
  {
   "cell_type": "code",
   "execution_count": 0,
   "metadata": {
    "colab": {
     "autoexec": {
      "startup": false,
      "wait_interval": 0
     }
    },
    "colab_type": "code",
    "id": "Nh2cM7BHpTNY"
   },
   "outputs": [],
   "source": []
  },
  {
   "cell_type": "code",
   "execution_count": 0,
   "metadata": {
    "colab": {
     "autoexec": {
      "startup": false,
      "wait_interval": 0
     }
    },
    "colab_type": "code",
    "id": "IKgJlRdHJzP6"
   },
   "outputs": [],
   "source": []
  }
 ],
 "metadata": {
  "accelerator": "GPU",
  "colab": {
   "collapsed_sections": [],
   "default_view": {},
   "name": "Audio tagging challenge.ipynb",
   "provenance": [],
   "version": "0.3.2",
   "views": {}
  },
  "kernelspec": {
   "display_name": "Python 3",
   "language": "python",
   "name": "python3"
  },
  "language_info": {
   "codemirror_mode": {
    "name": "ipython",
    "version": 3
   },
   "file_extension": ".py",
   "mimetype": "text/x-python",
   "name": "python",
   "nbconvert_exporter": "python",
   "pygments_lexer": "ipython3",
   "version": "3.6.4"
  }
 },
 "nbformat": 4,
 "nbformat_minor": 1
}
